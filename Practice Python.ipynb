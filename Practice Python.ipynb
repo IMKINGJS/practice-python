{
    "nbformat_minor": 1, 
    "cells": [
        {
            "source": "### Practice the following exercises", 
            "cell_type": "markdown", 
            "metadata": {
                "collapsed": true
            }
        }, 
        {
            "source": "Question 1. Accept two int values from the user and return their product. If the product is greater than 1000, then return their sum. Use 10 and 20 to test.", 
            "cell_type": "markdown", 
            "metadata": {}
        }, 
        {
            "source": "To solve this problem, we need to first declare a function 'multiplication_or_sum'", 
            "cell_type": "markdown", 
            "metadata": {}
        }, 
        {
            "execution_count": 2, 
            "cell_type": "code", 
            "metadata": {}, 
            "outputs": [
                {
                    "output_type": "stream", 
                    "name": "stdout", 
                    "text": "Enter first number 10\nEnter second number20\nThe result is 200\n"
                }
            ], 
            "source": "def multiplication_or_sum(num1, num2):\n    product = num1 * num2\n    if(product < 1000):\n        return product\n    else:\n        return num1 + num2\n    \nnumber1 = int(input(\"Enter first number \"))\nnumber2 = int(input(\"Enter second number\"))\n\nresult = multiplication_or_sum(number1, number2)\nprint(\"The result is\", result)\n\n"
        }, 
        {
            "source": "What we actually did was to multiply 2 int. And that was 10 and 20. If the value of the int is changed, it will affect the outcome.\nThank you.", 
            "cell_type": "markdown", 
            "metadata": {}
        }, 
        {
            "source": "### Another problem", 
            "cell_type": "markdown", 
            "metadata": {}
        }, 
        {
            "source": "Question 2: Accept string from the user and display only those characters which are present at an even index. For example str = \"pynative\" so you should display \u2018p\u2019, \u2018n\u2019, \u2018t\u2019, \u2018v\u2019.", 
            "cell_type": "markdown", 
            "metadata": {}
        }, 
        {
            "execution_count": 5, 
            "cell_type": "code", 
            "metadata": {}, 
            "outputs": [
                {
                    "output_type": "stream", 
                    "name": "stdout", 
                    "text": "Enter String pynative\nOrginal String is  pynative\nPrinting only even index chars\nindex[ 0 ] p\nindex[ 2 ] n\nindex[ 4 ] t\nindex[ 6 ] v\n"
                }
            ], 
            "source": "def printEveIndexChar(str):\n  for i in range(0, len(str)-1, 2):\n    print(\"index[\",i,\"]\", str[i] )\ninputStr = input(\"Enter String \")\nprint(\"Orginal String is \", inputStr)\nprint(\"Printing only even index chars\")\nprintEveIndexChar(inputStr)"
        }, 
        {
            "source": "There is another way to do it but I choose this one because of it's complexity. Thank you.", 
            "cell_type": "markdown", 
            "metadata": {}
        }, 
        {
            "source": "###### Another practice exercise. Given a list of ints, return True if first and last number of a list is same.", 
            "cell_type": "markdown", 
            "metadata": {}
        }, 
        {
            "execution_count": 7, 
            "cell_type": "code", 
            "metadata": {}, 
            "outputs": [
                {
                    "output_type": "stream", 
                    "name": "stdout", 
                    "text": "The first and last number of a list is same\n"
                }
            ], 
            "source": "def isFirst_And_Last_Same(numberList):\n  firstElement = numberList[0]\n  lastElement =  numberList[-1]\n  if(firstElement == lastElement):\n    return True\n  else:\n    return False\nnumList = [10, 20, 30, 40, 10]\nprint(\"The first and last number of a list is same\")\n"
        }, 
        {
            "execution_count": null, 
            "cell_type": "code", 
            "metadata": {}, 
            "outputs": [], 
            "source": ""
        }
    ], 
    "metadata": {
        "kernelspec": {
            "display_name": "Python 3.6", 
            "name": "python3", 
            "language": "python"
        }, 
        "language_info": {
            "mimetype": "text/x-python", 
            "nbconvert_exporter": "python", 
            "version": "3.6.8", 
            "name": "python", 
            "file_extension": ".py", 
            "pygments_lexer": "ipython3", 
            "codemirror_mode": {
                "version": 3, 
                "name": "ipython"
            }
        }
    }, 
    "nbformat": 4
}